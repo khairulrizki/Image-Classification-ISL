{
  "cells": [
    {
      "cell_type": "markdown",
      "id": "47fbdced-835e-42db-8c3b-865ac4adb5f0",
      "metadata": {
        "id": "47fbdced-835e-42db-8c3b-865ac4adb5f0"
      },
      "source": [
        "# Image Classification Model Deployment\n",
        "Muhammad Khairul Rizki Ramadhan\\\n",
        "https://github.com/khairulrizki"
      ]
    },
    {
      "cell_type": "markdown",
      "id": "b1db1f92-e6eb-4484-a938-c65bbc6df089",
      "metadata": {
        "id": "b1db1f92-e6eb-4484-a938-c65bbc6df089"
      },
      "source": [
        "## Mempersiapkan Dataset"
      ]
    },
    {
      "cell_type": "code",
      "execution_count": 1,
      "id": "559955d5-e957-46af-a02e-2ce045c850d5",
      "metadata": {
        "id": "559955d5-e957-46af-a02e-2ce045c850d5"
      },
      "outputs": [],
      "source": [
        "#Sebelum memasukkan Dataset, kita import library yang akan kita gunakan dahulu\n",
        "import tensorflow as tf\n",
        "from tensorflow.keras.preprocessing.image import ImageDataGenerator\n",
        "import matplotlib.pyplot as plt\n",
        "import numpy as np"
      ]
    },
    {
      "cell_type": "code",
      "source": [
        "from google.colab import files\n",
        "#Upload Kaggle API Key\n",
        "files.upload()"
      ],
      "metadata": {
        "id": "wfxM_9THvdCH",
        "colab": {
          "base_uri": "https://localhost:8080/",
          "height": 92
        },
        "outputId": "e3bf33be-eeb8-49d6-e1fe-40b4e069f026"
      },
      "id": "wfxM_9THvdCH",
      "execution_count": 2,
      "outputs": [
        {
          "output_type": "display_data",
          "data": {
            "text/plain": [
              "<IPython.core.display.HTML object>"
            ],
            "text/html": [
              "\n",
              "     <input type=\"file\" id=\"files-000a05b8-42a9-4b6b-9614-c56536b372e4\" name=\"files[]\" multiple disabled\n",
              "        style=\"border:none\" />\n",
              "     <output id=\"result-000a05b8-42a9-4b6b-9614-c56536b372e4\">\n",
              "      Upload widget is only available when the cell has been executed in the\n",
              "      current browser session. Please rerun this cell to enable.\n",
              "      </output>\n",
              "      <script>// Copyright 2017 Google LLC\n",
              "//\n",
              "// Licensed under the Apache License, Version 2.0 (the \"License\");\n",
              "// you may not use this file except in compliance with the License.\n",
              "// You may obtain a copy of the License at\n",
              "//\n",
              "//      http://www.apache.org/licenses/LICENSE-2.0\n",
              "//\n",
              "// Unless required by applicable law or agreed to in writing, software\n",
              "// distributed under the License is distributed on an \"AS IS\" BASIS,\n",
              "// WITHOUT WARRANTIES OR CONDITIONS OF ANY KIND, either express or implied.\n",
              "// See the License for the specific language governing permissions and\n",
              "// limitations under the License.\n",
              "\n",
              "/**\n",
              " * @fileoverview Helpers for google.colab Python module.\n",
              " */\n",
              "(function(scope) {\n",
              "function span(text, styleAttributes = {}) {\n",
              "  const element = document.createElement('span');\n",
              "  element.textContent = text;\n",
              "  for (const key of Object.keys(styleAttributes)) {\n",
              "    element.style[key] = styleAttributes[key];\n",
              "  }\n",
              "  return element;\n",
              "}\n",
              "\n",
              "// Max number of bytes which will be uploaded at a time.\n",
              "const MAX_PAYLOAD_SIZE = 100 * 1024;\n",
              "\n",
              "function _uploadFiles(inputId, outputId) {\n",
              "  const steps = uploadFilesStep(inputId, outputId);\n",
              "  const outputElement = document.getElementById(outputId);\n",
              "  // Cache steps on the outputElement to make it available for the next call\n",
              "  // to uploadFilesContinue from Python.\n",
              "  outputElement.steps = steps;\n",
              "\n",
              "  return _uploadFilesContinue(outputId);\n",
              "}\n",
              "\n",
              "// This is roughly an async generator (not supported in the browser yet),\n",
              "// where there are multiple asynchronous steps and the Python side is going\n",
              "// to poll for completion of each step.\n",
              "// This uses a Promise to block the python side on completion of each step,\n",
              "// then passes the result of the previous step as the input to the next step.\n",
              "function _uploadFilesContinue(outputId) {\n",
              "  const outputElement = document.getElementById(outputId);\n",
              "  const steps = outputElement.steps;\n",
              "\n",
              "  const next = steps.next(outputElement.lastPromiseValue);\n",
              "  return Promise.resolve(next.value.promise).then((value) => {\n",
              "    // Cache the last promise value to make it available to the next\n",
              "    // step of the generator.\n",
              "    outputElement.lastPromiseValue = value;\n",
              "    return next.value.response;\n",
              "  });\n",
              "}\n",
              "\n",
              "/**\n",
              " * Generator function which is called between each async step of the upload\n",
              " * process.\n",
              " * @param {string} inputId Element ID of the input file picker element.\n",
              " * @param {string} outputId Element ID of the output display.\n",
              " * @return {!Iterable<!Object>} Iterable of next steps.\n",
              " */\n",
              "function* uploadFilesStep(inputId, outputId) {\n",
              "  const inputElement = document.getElementById(inputId);\n",
              "  inputElement.disabled = false;\n",
              "\n",
              "  const outputElement = document.getElementById(outputId);\n",
              "  outputElement.innerHTML = '';\n",
              "\n",
              "  const pickedPromise = new Promise((resolve) => {\n",
              "    inputElement.addEventListener('change', (e) => {\n",
              "      resolve(e.target.files);\n",
              "    });\n",
              "  });\n",
              "\n",
              "  const cancel = document.createElement('button');\n",
              "  inputElement.parentElement.appendChild(cancel);\n",
              "  cancel.textContent = 'Cancel upload';\n",
              "  const cancelPromise = new Promise((resolve) => {\n",
              "    cancel.onclick = () => {\n",
              "      resolve(null);\n",
              "    };\n",
              "  });\n",
              "\n",
              "  // Wait for the user to pick the files.\n",
              "  const files = yield {\n",
              "    promise: Promise.race([pickedPromise, cancelPromise]),\n",
              "    response: {\n",
              "      action: 'starting',\n",
              "    }\n",
              "  };\n",
              "\n",
              "  cancel.remove();\n",
              "\n",
              "  // Disable the input element since further picks are not allowed.\n",
              "  inputElement.disabled = true;\n",
              "\n",
              "  if (!files) {\n",
              "    return {\n",
              "      response: {\n",
              "        action: 'complete',\n",
              "      }\n",
              "    };\n",
              "  }\n",
              "\n",
              "  for (const file of files) {\n",
              "    const li = document.createElement('li');\n",
              "    li.append(span(file.name, {fontWeight: 'bold'}));\n",
              "    li.append(span(\n",
              "        `(${file.type || 'n/a'}) - ${file.size} bytes, ` +\n",
              "        `last modified: ${\n",
              "            file.lastModifiedDate ? file.lastModifiedDate.toLocaleDateString() :\n",
              "                                    'n/a'} - `));\n",
              "    const percent = span('0% done');\n",
              "    li.appendChild(percent);\n",
              "\n",
              "    outputElement.appendChild(li);\n",
              "\n",
              "    const fileDataPromise = new Promise((resolve) => {\n",
              "      const reader = new FileReader();\n",
              "      reader.onload = (e) => {\n",
              "        resolve(e.target.result);\n",
              "      };\n",
              "      reader.readAsArrayBuffer(file);\n",
              "    });\n",
              "    // Wait for the data to be ready.\n",
              "    let fileData = yield {\n",
              "      promise: fileDataPromise,\n",
              "      response: {\n",
              "        action: 'continue',\n",
              "      }\n",
              "    };\n",
              "\n",
              "    // Use a chunked sending to avoid message size limits. See b/62115660.\n",
              "    let position = 0;\n",
              "    do {\n",
              "      const length = Math.min(fileData.byteLength - position, MAX_PAYLOAD_SIZE);\n",
              "      const chunk = new Uint8Array(fileData, position, length);\n",
              "      position += length;\n",
              "\n",
              "      const base64 = btoa(String.fromCharCode.apply(null, chunk));\n",
              "      yield {\n",
              "        response: {\n",
              "          action: 'append',\n",
              "          file: file.name,\n",
              "          data: base64,\n",
              "        },\n",
              "      };\n",
              "\n",
              "      let percentDone = fileData.byteLength === 0 ?\n",
              "          100 :\n",
              "          Math.round((position / fileData.byteLength) * 100);\n",
              "      percent.textContent = `${percentDone}% done`;\n",
              "\n",
              "    } while (position < fileData.byteLength);\n",
              "  }\n",
              "\n",
              "  // All done.\n",
              "  yield {\n",
              "    response: {\n",
              "      action: 'complete',\n",
              "    }\n",
              "  };\n",
              "}\n",
              "\n",
              "scope.google = scope.google || {};\n",
              "scope.google.colab = scope.google.colab || {};\n",
              "scope.google.colab._files = {\n",
              "  _uploadFiles,\n",
              "  _uploadFilesContinue,\n",
              "};\n",
              "})(self);\n",
              "</script> "
            ]
          },
          "metadata": {}
        },
        {
          "output_type": "stream",
          "name": "stdout",
          "text": [
            "Saving kaggle.json to kaggle (6).json\n"
          ]
        },
        {
          "output_type": "execute_result",
          "data": {
            "text/plain": [
              "{'kaggle (6).json': b'{\"username\":\"khairulrizkii\",\"key\":\"67685a247c7234849e224e2b2db3cc2d\"}'}"
            ]
          },
          "metadata": {},
          "execution_count": 2
        }
      ]
    },
    {
      "cell_type": "code",
      "source": [
        "!mkdir ~/.kaggle\n",
        "!cp kaggle.json ~/.kaggle/\n",
        "!chmod 600 ~/.kaggle/kaggle.json\n",
        "# !kaggle datasets list\n",
        "!kaggle datasets download -d grassknoted/asl-alphabet"
      ],
      "metadata": {
        "id": "rBC0j1s1vjMZ",
        "colab": {
          "base_uri": "https://localhost:8080/"
        },
        "outputId": "07abf8e6-52f9-47bf-d0a8-70ffe6cab1a4"
      },
      "id": "rBC0j1s1vjMZ",
      "execution_count": 3,
      "outputs": [
        {
          "output_type": "stream",
          "name": "stdout",
          "text": [
            "mkdir: cannot create directory ‘/root/.kaggle’: File exists\n",
            "asl-alphabet.zip: Skipping, found more recently modified local copy (use --force to force download)\n"
          ]
        }
      ]
    },
    {
      "cell_type": "code",
      "source": [
        "import os, zipfile\n",
        "zipPath = '/content/asl-alphabet.zip'\n",
        "zipFile = zipfile.ZipFile(zipPath, 'r')\n",
        "zipFile.extractall('../content/dataset/')\n",
        "zipFile.close()"
      ],
      "metadata": {
        "id": "c8ioeVJnwRGw"
      },
      "id": "c8ioeVJnwRGw",
      "execution_count": 4,
      "outputs": []
    },
    {
      "cell_type": "code",
      "execution_count": 5,
      "id": "74359eeb-ae1c-438f-9779-be5542b094aa",
      "metadata": {
        "id": "74359eeb-ae1c-438f-9779-be5542b094aa"
      },
      "outputs": [],
      "source": [
        "\n",
        "dataset = \"/content/dataset/asl_alphabet_train/asl_alphabet_train\""
      ]
    },
    {
      "cell_type": "code",
      "execution_count": 6,
      "id": "a3afdd25-6072-40ee-a21c-6e9e43a84239",
      "metadata": {
        "id": "a3afdd25-6072-40ee-a21c-6e9e43a84239",
        "colab": {
          "base_uri": "https://localhost:8080/"
        },
        "outputId": "eb18f8a3-f86e-4b6b-8c5c-a11800dd5b16"
      },
      "outputs": [
        {
          "output_type": "stream",
          "name": "stdout",
          "text": [
            "Found 69600 images belonging to 29 classes.\n",
            "Found 17400 images belonging to 29 classes.\n"
          ]
        }
      ],
      "source": [
        "#Mempersiapkan data train\n",
        "train_datagen = ImageDataGenerator(\n",
        "    rescale = 1.0/255,\n",
        "    fill_mode = 'nearest',\n",
        "    validation_split = 0.2\n",
        ")\n",
        "\n",
        "train_generator = train_datagen.flow_from_directory(\n",
        "    dataset,\n",
        "    target_size = (150,150),\n",
        "    batch_size = 32,\n",
        "    class_mode = 'categorical',\n",
        "    subset = 'training'\n",
        ")\n",
        "\n",
        "#Mempersiapka data validation\n",
        "val_datagen = ImageDataGenerator(\n",
        "    rescale = 1.0/255,\n",
        "    validation_split = 0.2\n",
        ")\n",
        "\n",
        "val_generator = val_datagen.flow_from_directory(\n",
        "    dataset,\n",
        "    target_size = (150,150),\n",
        "    batch_size = 32,\n",
        "    class_mode = 'categorical',\n",
        "    subset = 'validation'\n",
        ")"
      ]
    },
    {
      "cell_type": "markdown",
      "id": "b43919b1-f68b-4136-99e0-f5631bbb4271",
      "metadata": {
        "id": "b43919b1-f68b-4136-99e0-f5631bbb4271"
      },
      "source": [
        "## Membuat Model"
      ]
    },
    {
      "cell_type": "code",
      "source": [
        "from tensorflow.keras.applications import MobileNetV2\n",
        "from tensorflow.keras.layers import Input\n",
        "mobilenet = MobileNetV2(weights=\"imagenet\", include_top=False,\n",
        "                                input_tensor=Input(shape=(150, 150, 3)))\n",
        "\n",
        "for layer in mobilenet.layers:\n",
        "    layer.trainable = False"
      ],
      "metadata": {
        "id": "FOtIE_7MTVzp",
        "colab": {
          "base_uri": "https://localhost:8080/"
        },
        "outputId": "9a5a4faf-d7e0-4ec5-ac46-72f87f4b2cea"
      },
      "id": "FOtIE_7MTVzp",
      "execution_count": 9,
      "outputs": [
        {
          "output_type": "stream",
          "name": "stderr",
          "text": [
            "WARNING:tensorflow:`input_shape` is undefined or non-square, or `rows` is not in [96, 128, 160, 192, 224]. Weights for input shape (224, 224) will be loaded as the default.\n"
          ]
        }
      ]
    },
    {
      "cell_type": "code",
      "execution_count": 10,
      "id": "6a1e2958-df45-44ed-8efa-9cfd6c98b16e",
      "metadata": {
        "id": "6a1e2958-df45-44ed-8efa-9cfd6c98b16e"
      },
      "outputs": [],
      "source": [
        "model = tf.keras.Sequential([\n",
        "    mobilenet,\n",
        "    tf.keras.layers.Conv2D(32, 3, activation='relu', padding='same'),\n",
        "    tf.keras.layers.BatchNormalization(),\n",
        "    tf.keras.layers.MaxPooling2D(padding='same'),\n",
        "    tf.keras.layers.Dropout(0.2),\n",
        "    tf.keras.layers.Conv2D(64, 3, activation='relu', padding='same'),\n",
        "    tf.keras.layers.BatchNormalization(),\n",
        "    tf.keras.layers.MaxPooling2D(padding='same'),\n",
        "    tf.keras.layers.Conv2D(128, 3, activation='relu', padding='same'),\n",
        "    tf.keras.layers.Flatten(),\n",
        "    tf.keras.layers.Dense(512, activation='relu'),\n",
        "    tf.keras.layers.Dropout(0.2),\n",
        "    tf.keras.layers.Dense(64, activation='relu'),\n",
        "    tf.keras.layers.Dropout(0.3),\n",
        "    tf.keras.layers.Dense(29, activation='softmax'),\n",
        "])"
      ]
    },
    {
      "cell_type": "code",
      "execution_count": 11,
      "id": "0c222f8a-5583-40a2-8d19-73dd95e9db9f",
      "metadata": {
        "id": "0c222f8a-5583-40a2-8d19-73dd95e9db9f"
      },
      "outputs": [],
      "source": [
        "model.compile(\n",
        "    optimizer='adam',\n",
        "    loss='categorical_crossentropy',\n",
        "    metrics=['accuracy'],\n",
        ")"
      ]
    },
    {
      "cell_type": "code",
      "execution_count": 12,
      "id": "1b8b2475-cee4-4178-900a-582438928739",
      "metadata": {
        "id": "1b8b2475-cee4-4178-900a-582438928739"
      },
      "outputs": [],
      "source": [
        "#Callback\n",
        "\n",
        "class myCallback(tf.keras.callbacks.Callback):\n",
        "    def on_epoch_end(self,epoch,logs={}):\n",
        "        if(logs.get('accuracy')>=0.80 and logs.get('val_accuracy')>=0.80):\n",
        "            self.model.stop_training = True\n",
        "callbacks=myCallback()"
      ]
    },
    {
      "cell_type": "code",
      "execution_count": 13,
      "id": "4b046d47-5df5-4de1-827f-7d13a42ba86b",
      "metadata": {
        "colab": {
          "base_uri": "https://localhost:8080/"
        },
        "id": "4b046d47-5df5-4de1-827f-7d13a42ba86b",
        "outputId": "7902177c-1127-4dc7-9df0-9b5c25d842ee"
      },
      "outputs": [
        {
          "output_type": "stream",
          "name": "stdout",
          "text": [
            "Epoch 1/200\n",
            "2175/2175 [==============================] - 136s 59ms/step - loss: 0.5403 - accuracy: 0.8419 - val_loss: 1.1114 - val_accuracy: 0.7410\n",
            "Epoch 2/200\n",
            "2175/2175 [==============================] - 125s 57ms/step - loss: 0.1441 - accuracy: 0.9619 - val_loss: 0.9959 - val_accuracy: 0.8089\n"
          ]
        }
      ],
      "source": [
        "Hist = model.fit(train_generator,\n",
        "                epochs=200,\n",
        "                validation_data=val_generator,\n",
        "                callbacks=[callbacks])"
      ]
    },
    {
      "cell_type": "markdown",
      "id": "6b373835-9fee-4b0c-a218-293774d6c2c8",
      "metadata": {
        "id": "6b373835-9fee-4b0c-a218-293774d6c2c8"
      },
      "source": [
        "## Evaluasi Model"
      ]
    },
    {
      "cell_type": "code",
      "execution_count": 14,
      "id": "f4f7cc4d-da95-4a09-b9fd-b35bfe77f8f6",
      "metadata": {
        "id": "f4f7cc4d-da95-4a09-b9fd-b35bfe77f8f6",
        "colab": {
          "base_uri": "https://localhost:8080/",
          "height": 492
        },
        "outputId": "1f671a39-5c8d-4cb0-8049-41a7f1599013"
      },
      "outputs": [
        {
          "output_type": "display_data",
          "data": {
            "text/plain": [
              "<Figure size 1000x500 with 1 Axes>"
            ],
            "image/png": "[encoded data removed]"
          },
          "metadata": {}
        }
      ],
      "source": [
        "#Model Loss\n",
        "plt.style.use(\"ggplot\")\n",
        "plt.figure(figsize=(10, 5))\n",
        "plt.plot(Hist.history[\"loss\"], label=\"training\")\n",
        "plt.plot(Hist.history[\"val_loss\"], label=\"validation\")\n",
        "plt.title(\"Loss\")\n",
        "plt.xlabel(\"Epoch\")\n",
        "plt.ylabel(\"Loss\")\n",
        "plt.legend(['train', 'test'], loc='lower right')\n",
        "plt.show()"
      ]
    },
    {
      "cell_type": "code",
      "execution_count": 15,
      "id": "42af4f81-2151-40d6-87e0-7486e1325fe2",
      "metadata": {
        "id": "42af4f81-2151-40d6-87e0-7486e1325fe2",
        "colab": {
          "base_uri": "https://localhost:8080/",
          "height": 492
        },
        "outputId": "2ba268ef-c14d-4d13-8a19-7080fb3fd1a7"
      },
      "outputs": [
        {
          "output_type": "display_data",
          "data": {
            "text/plain": [
              "<Figure size 1000x500 with 1 Axes>"
            ],
            "image/png": "[encoded data removed]"
          },
          "metadata": {}
        }
      ],
      "source": [
        "#Model Accuracy\n",
        "plt.figure(figsize=(10, 5))\n",
        "plt.plot(Hist.history[\"accuracy\"], label=\"training\")\n",
        "plt.plot(Hist.history[\"val_accuracy\"], label=\"validation\")\n",
        "plt.title(\"Accuracy\")\n",
        "plt.xlabel(\"Epoch\")\n",
        "plt.ylabel(\"Accuracy\")\n",
        "plt.legend(['train', 'test'], loc='lower right')\n",
        "plt.show()"
      ]
    },
    {
      "cell_type": "markdown",
      "id": "e908ae40-1dd2-4436-b3b9-bf67e5cadf70",
      "metadata": {
        "id": "e908ae40-1dd2-4436-b3b9-bf67e5cadf70"
      },
      "source": [
        "## Mengubah Model Menjadi TFLite"
      ]
    },
    {
      "cell_type": "code",
      "execution_count": 16,
      "id": "cfadb060-b2a3-45eb-97af-75d761acfa83",
      "metadata": {
        "id": "cfadb060-b2a3-45eb-97af-75d761acfa83",
        "colab": {
          "base_uri": "https://localhost:8080/"
        },
        "outputId": "52893146-83a4-4651-94b8-0703e621dfdf"
      },
      "outputs": [
        {
          "output_type": "stream",
          "name": "stderr",
          "text": [
            "WARNING:absl:`mobilenetv2_1.00_224_input` is not a valid tf.function parameter name. Sanitizing to `mobilenetv2_1_00_224_input`.\n",
            "WARNING:absl:`mobilenetv2_1.00_224_input` is not a valid tf.function parameter name. Sanitizing to `mobilenetv2_1_00_224_input`.\n",
            "WARNING:absl:`mobilenetv2_1.00_224_input` is not a valid tf.function parameter name. Sanitizing to `mobilenetv2_1_00_224_input`.\n"
          ]
        },
        {
          "output_type": "execute_result",
          "data": {
            "text/plain": [
              "11904404"
            ]
          },
          "metadata": {},
          "execution_count": 16
        }
      ],
      "source": [
        "import pathlib\n",
        "export_dir = 'saved_model/'\n",
        "tf.saved_model.save(model, export_dir)\n",
        "\n",
        "converter = tf.lite.TFLiteConverter.from_saved_model(export_dir)\n",
        "tflite_model = converter.convert()\n",
        "\n",
        "tflite_model_file = pathlib.Path('ISLModel.tflite')\n",
        "tflite_model_file.write_bytes(tflite_model)"
      ]
    },
    {
      "cell_type": "code",
      "source": [],
      "metadata": {
        "id": "pXACrmurT5Qh"
      },
      "id": "pXACrmurT5Qh",
      "execution_count": null,
      "outputs": []
    }
  ],
  "metadata": {
    "kernelspec": {
      "display_name": "Python 3",
      "name": "python3"
    },
    "language_info": {
      "codemirror_mode": {
        "name": "ipython",
        "version": 3
      },
      "file_extension": ".py",
      "mimetype": "text/x-python",
      "name": "python",
      "nbconvert_exporter": "python",
      "pygments_lexer": "ipython3",
      "version": "3.11.5"
    },
    "colab": {
      "provenance": [],
      "gpuType": "T4"
    },
    "accelerator": "GPU"
  },
  "nbformat": 4,
  "nbformat_minor": 5
}